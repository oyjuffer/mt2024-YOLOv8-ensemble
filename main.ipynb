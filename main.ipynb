{
 "cells": [
  {
   "cell_type": "markdown",
   "metadata": {},
   "source": [
    "# YOLOv8 Ensemble"
   ]
  },
  {
   "cell_type": "markdown",
   "metadata": {},
   "source": [
    "## Libraries"
   ]
  },
  {
   "cell_type": "code",
   "execution_count": null,
   "metadata": {},
   "outputs": [],
   "source": [
    "from ultralytics import YOLO\n",
    "import torch\n",
    "import torchvision\n",
    "\n",
    "print(torch.cuda.is_available())\n",
    "print(torchvision.__version__)"
   ]
  },
  {
   "cell_type": "markdown",
   "metadata": {},
   "source": [
    "## Hyperparameter Tuning"
   ]
  },
  {
   "cell_type": "code",
   "execution_count": null,
   "metadata": {},
   "outputs": [],
   "source": [
    "model = YOLO('yolov8n.yaml')\n",
    "model = YOLO('yolov8n.pt')\n",
    "\n",
    "model.tune(data='crystals_2600.yaml',\n",
    "           patience=3,\n",
    "           epochs=25,\n",
    "           iterations=100,\n",
    "           plots=False, \n",
    "           save=False, \n",
    "           val=False\n",
    "           )"
   ]
  },
  {
   "cell_type": "markdown",
   "metadata": {},
   "source": [
    "## Generate YOLOv8 Models\n",
    "- Optimizer defaults to AdamW"
   ]
  },
  {
   "cell_type": "code",
   "execution_count": null,
   "metadata": {},
   "outputs": [],
   "source": [
    "num_models = 3\n",
    "# model = YOLO('yolov8s-p2.yaml').load('yolov8s.pt')\n",
    "\n",
    "for i in range(num_models):\n",
    "\n",
    "    model = YOLO('yolov8n.yaml').load('yolov8n.pt')\n",
    "\n",
    "    results = model.train(data='crystals_2600.yaml', \n",
    "                        epochs=100,\n",
    "                        patience=10,\n",
    "                        imgsz=608,\n",
    "                        project='models',\n",
    "                        name=f'yolov8n_{i+1}',\n",
    "                        exist_ok = True,\n",
    "                        seed = i,\n",
    "                        deterministic = False)\n",
    "    \n",
    "    del model\n",
    "    del results\n",
    "    torch.cuda.empty_cache()"
   ]
  },
  {
   "cell_type": "markdown",
   "metadata": {},
   "source": [
    "## Evaluate\n",
    "- P (Precision): The accuracy of the detected objects, indicating how many detections were correct.\n",
    "- R (Recall): The ability of the model to identify all instances of objects in the images.\n"
   ]
  },
  {
   "cell_type": "markdown",
   "metadata": {},
   "source": [
    "## Predict"
   ]
  },
  {
   "cell_type": "code",
   "execution_count": null,
   "metadata": {},
   "outputs": [],
   "source": [
    "model = YOLO(\"YOLOv9c\\\\1\\weights\\\\best.pt\")\n",
    "images = ([\"CVAT\\images\\\\01dd_D12_ImagerDefaults_9.jpg\"])\n",
    "\n",
    "# Run batched inference on a list of images\n",
    "results = model(images, save_txt = True, save_conf = True, project = \"single\", exist_ok = True, conf = 0.25)\n",
    "\n",
    "# Process results list\n",
    "for result in results:\n",
    "    boxes = result.boxes  # Boxes object for bounding box outputs\n",
    "    # result.show()  # display to screen\n",
    "    # result.save(filename='result.jpg')  # save to disk"
   ]
  }
 ],
 "metadata": {
  "kernelspec": {
   "display_name": "Python 3",
   "language": "python",
   "name": "python3"
  },
  "language_info": {
   "codemirror_mode": {
    "name": "ipython",
    "version": 3
   },
   "file_extension": ".py",
   "mimetype": "text/x-python",
   "name": "python",
   "nbconvert_exporter": "python",
   "pygments_lexer": "ipython3",
   "version": "3.11.9"
  }
 },
 "nbformat": 4,
 "nbformat_minor": 2
}
