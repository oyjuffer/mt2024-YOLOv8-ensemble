{
 "cells": [
  {
   "cell_type": "markdown",
   "metadata": {},
   "source": [
    "# Uncertainty Estimation\n",
    "  - **0:** class\n",
    "  - **1:** x_mean\n",
    "  - **2:** x_std\n",
    "  - **3:** y_mean\n",
    "  - **4:** y_std\n",
    "  - **5:** w_mean\n",
    "  - **6:** w_std\n",
    "  - **7:** h_mean\n",
    "  - **8:** h_std\n",
    "  - **9:** conf\n",
    "  - **10:** uncertainty\n",
    "  - **11** IoU\n",
    "\n",
    "  **pred** hold all the predicitons of all images. \\\n",
    "  **p** holds all predictions of a single image. \\\n",
    "  **p2** is a single prediction in an image.\n"
   ]
  },
  {
   "cell_type": "markdown",
   "metadata": {},
   "source": [
    "## Libraries"
   ]
  },
  {
   "cell_type": "code",
   "execution_count": 16,
   "metadata": {},
   "outputs": [],
   "source": [
    "import os\n",
    "import json\n",
    "import torch\n",
    "import numpy as np\n",
    "import matplotlib.pyplot as plt\n",
    "from ultralytics.utils.ops import xywh2xyxy\n",
    "from torchvision import ops"
   ]
  },
  {
   "cell_type": "markdown",
   "metadata": {},
   "source": [
    "## Functions"
   ]
  },
  {
   "cell_type": "code",
   "execution_count": 17,
   "metadata": {},
   "outputs": [],
   "source": [
    "def load(predictions_path, gt_path):\n",
    "\n",
    "    predictions = []\n",
    "    gt = []\n",
    "\n",
    "    for file in os.listdir(predictions_path):\n",
    "        prediction_file_path = os.path.join(predictions_path, file)\n",
    "        prediction_name = os.path.splitext(file)[0]\n",
    "\n",
    "        # load ensemble predictions\n",
    "        try:\n",
    "            with open(prediction_file_path, \"r\") as f:\n",
    "                data = json.load(f)\n",
    "                predictions.append(data)\n",
    "        # load ensemble member predictions\n",
    "        except:\n",
    "            with open(prediction_file_path, \"r\") as f:\n",
    "                p = []\n",
    "                for line in f:\n",
    "                    pred_line_data = [float(value) for value in line.split()]\n",
    "                    p.append([int(pred_line_data[0]), \n",
    "                                        pred_line_data[1], 0,\n",
    "                                        pred_line_data[2], 0,\n",
    "                                        pred_line_data[3], 0,\n",
    "                                        pred_line_data[4], 0,\n",
    "                                        pred_line_data[5]])\n",
    "            predictions.append(p)\n",
    "\n",
    "        # load ground truths\n",
    "        if gt_path:\n",
    "            with open(os.path.join(gt_path, prediction_name + \".txt\"), \"r\") as f:\n",
    "                g = []\n",
    "                for line in f:\n",
    "                    gt_line_data = [float(value) for value in line.split()]\n",
    "                    g.append(gt_line_data)\n",
    "            gt.append(g)\n",
    "\n",
    "    return predictions, gt\n",
    "\n",
    "def fuzzy(pred, std):\n",
    "    \n",
    "    for i in pred:\n",
    "\n",
    "        image = []\n",
    "\n",
    "        for p in i:\n",
    "\n",
    "            # x, y are coordinates\n",
    "            # w, h are distance\n",
    "            x, y, w, h = p[1], p[3], p[5], p[7]\n",
    "            x_std, y_std, w_std, h_std = p[2], p[4], p[6], p[8]\n",
    "\n",
    "            # add x standard diviations to the original w and h\n",
    "            w_fuzzy = w + w_std * std\n",
    "            h_fuzzy = h + h_std * std\n",
    "\n",
    "            # add the distance betwen points x,y and x,y+std to w and h\n",
    "            w_fuzzy += abs(x + x_std * std -  x)\n",
    "            h_fuzzy += abs(y + y_std * std -  y)\n",
    "\n",
    "            box1 = xywh2xyxy(torch.tensor([[x, y, w, h]], dtype=torch.float))\n",
    "            box2 = xywh2xyxy(torch.tensor([[x, y, w_fuzzy, h_fuzzy]], dtype=torch.float))\n",
    "            iou = 1 - ops.box_iou(box1, box2).numpy()[0][0]\n",
    "            p.append(iou)\n",
    "            image.append(p)\n",
    "\n",
    "def match(pred, gt):\n",
    "\n",
    "    for i, pred in enumerate(pred):\n",
    "        for p in pred:\n",
    "            saved_iou = 0\n",
    "            for g in gt[i]:\n",
    "                box1 = xywh2xyxy(torch.tensor([[p[1], p[3] ,p[5] ,p[7]]], dtype=torch.float))\n",
    "                box2 = xywh2xyxy(torch.tensor([g[1:]], dtype=torch.float))\n",
    "                iou = ops.box_iou(box1, box2).numpy()[0][0]\n",
    "                \n",
    "                if p[0] == g[0] and iou > saved_iou:\n",
    "                    saved_iou = iou\n",
    "\n",
    "            if saved_iou == 0:\n",
    "                p.append(0)\n",
    "            else:\n",
    "                p.append(saved_iou)\n",
    "\n",
    "def binning(pred):\n",
    "    bins = [0, 0.05, 0.1, 0.15, 0.2, 0.25, 0.3, 0.35, 0.4, 0.45, 0.5, 0.55, 0.6, 0.65, 0.7, 0.75, 0.8, 0.85, 0.9, 0.95, 1]\n",
    "    bins_conf = [[] for _ in range(len(bins) - 1)]\n",
    "\n",
    "        # bin confidence scores\n",
    "    for p in pred:\n",
    "        for p2 in p:\n",
    "            for j, bin_start in enumerate(bins):\n",
    "                bin_end = bins[j + 1]\n",
    "                if bin_start <= p2[9] < bin_end:\n",
    "                    if len(p2) == 11:\n",
    "                        bins_conf[j].append((p2[9], None))\n",
    "                    else:\n",
    "                        bins_conf[j].append((p2[9], p2[11]))\n",
    "                    break\n",
    "    \n",
    "    return bins_conf\n",
    "\n",
    "def calibration(conf_binned):\n",
    "    ece = 0\n",
    "    conf_means = []\n",
    "    positives_ratios = []\n",
    "    total_length = sum(len(bin) for bin in conf_binned)\n",
    "\n",
    "    for bin in conf_binned:\n",
    "\n",
    "        if not bin:\n",
    "            continue\n",
    "\n",
    "        # mean conf per bin\n",
    "        confidence = [conf[0] for conf in bin]\n",
    "        conf_mean = np.mean(confidence)\n",
    "        conf_means.append(conf_mean)\n",
    "\n",
    "        # TP per bin\n",
    "        positives = 0\n",
    "        for p in bin:\n",
    "            if p[1] > 0.55:\n",
    "                positives += 1\n",
    "        \n",
    "        positives_ratio = positives / (len(bin) + 1e-16)\n",
    "        positives_ratios.append(positives_ratio)\n",
    "        ece += 1/total_length * len(bin) * abs(positives_ratio - conf_mean)\n",
    "\n",
    "    return conf_means, positives_ratios, ece"
   ]
  },
  {
   "cell_type": "markdown",
   "metadata": {},
   "source": [
    "## Load Data and Save Metrics\n",
    " - Loads the predictions and ground truths into two lists.\n",
    " - Adds a fuzzy uncertainty value at the end of each prediction.\n",
    " - Add a IoU score at the end for each correct prediction."
   ]
  },
  {
   "cell_type": "code",
   "execution_count": 18,
   "metadata": {},
   "outputs": [],
   "source": [
    "m = 10\n",
    "class_labels = ['Clustered Other', 'Clear', 'Discrete Crystal', 'Precipitate', 'Clustered Crystal', 'Discrete Other']\n",
    "\n",
    "\n",
    "# pred, gt = load(\"YOLOv9c_predictions_0.15\\\\1\\labels\", \"datasets\\crystals\\labels\\\\test\")\n",
    "# fuzzy(pred, 1)\n",
    "# match(pred, gt)\n",
    "\n",
    "\n",
    "# pred, gt = load(\"YOLOv9c_predictions_0.01\\ensemble_10\", \"datasets\\crystals\\labels\\\\test\")\n",
    "# fuzzy(pred, 1)\n",
    "# match(pred, gt)"
   ]
  },
  {
   "cell_type": "markdown",
   "metadata": {},
   "source": [
    "## LINE GRAPH: ensemble marco AP50"
   ]
  },
  {
   "cell_type": "code",
   "execution_count": 19,
   "metadata": {},
   "outputs": [
    {
     "data": {
      "text/plain": [
       "<Figure size 3200x2400 with 0 Axes>"
      ]
     },
     "metadata": {},
     "output_type": "display_data"
    }
   ],
   "source": [
    "directory = 'plots_ensemble\\line_ensemble_marco'\n",
    "if not os.path.exists(directory):\n",
    "    os.makedirs(directory)\n",
    "\n",
    "ap50 = [\n",
    "    [0.51466, 0.53805, 0.54445, 0.554, 0.53853, 0.55546, 0.55116, 0.55082, 0.5433, 0.54572],  # CO\n",
    "    [0.76113, 0.74806, 0.76948, 0.7745, 0.76738, 0.76061, 0.76526, 0.76702, 0.76507, 0.76456],  # C\n",
    "    [0.63499, 0.64195, 0.67644, 0.66844, 0.68662, 0.69785, 0.69789, 0.70418, 0.69876, 0.70895],  # DC\n",
    "    [0.7561, 0.75115, 0.75418, 0.74995, 0.76367, 0.76516, 0.75868, 0.75663, 0.7628, 0.76404],  # P\n",
    "    [0.50789, 0.4748, 0.50451, 0.47635, 0.49702, 0.51582, 0.50735, 0.51933, 0.50977, 0.5166],  # CC\n",
    "    [0.35416, 0.33228, 0.35894, 0.36279, 0.37465, 0.37599, 0.37182, 0.37523, 0.37087, 0.38107]   # DO\n",
    "]\n",
    "\n",
    "ensemble_numbers = list(range(1, 11))\n",
    "\n",
    "# Plotting\n",
    "plt.figure(dpi=500)\n",
    "plt.figure(figsize=(8, 8)) \n",
    "\n",
    "for i, class_data in enumerate(ap50):\n",
    "    plt.plot(ensemble_numbers, class_data, marker='o', label=class_labels[i])\n",
    "\n",
    "plt.xlabel('m')\n",
    "plt.ylabel('AP@50')\n",
    "plt.legend()\n",
    "plt.grid(True)\n",
    "plt.xticks(ensemble_numbers)\n",
    "plt.ylim(0, 1)\n",
    "plt.savefig(os.path.join(directory, 'ap50.png'))\n",
    "plt.close()\n"
   ]
  },
  {
   "cell_type": "markdown",
   "metadata": {},
   "source": [
    "## LINE GRAPH: ensemble icebear AP50"
   ]
  },
  {
   "cell_type": "code",
   "execution_count": 20,
   "metadata": {},
   "outputs": [
    {
     "data": {
      "text/plain": [
       "<Figure size 3200x2400 with 0 Axes>"
      ]
     },
     "metadata": {},
     "output_type": "display_data"
    }
   ],
   "source": [
    "directory = 'plots_ensemble\\line_ensemble_icebear'\n",
    "if not os.path.exists(directory):\n",
    "    os.makedirs(directory)\n",
    "\n",
    "ap50 = [\n",
    "    [0.2282, 0.26357, 0.27709, 0.31397, 0.31927, 0.32261, 0.30949, 0.31771, 0.33555, 0.34384],\n",
    "    [0.68463, 0.64879, 0.65379, 0.66647, 0.65973, 0.66488, 0.67457, 0.67712, 0.66917, 0.66451],\n",
    "    [0.46933, 0.49607, 0.48057, 0.48674, 0.49784, 0.49975, 0.49793, 0.50198, 0.50793, 0.51128],\n",
    "    [0.61244, 0.63637, 0.6727, 0.65769, 0.66936, 0.65707, 0.66379, 0.65464, 0.65462, 0.66396],\n",
    "    [0.24729, 0.28702, 0.27674, 0.31108, 0.32734, 0.29223, 0.28456, 0.30206, 0.31927, 0.31974],\n",
    "    [0.161, 0.19993, 0.25644, 0.23183, 0.26701, 0.2585, 0.27248, 0.27172, 0.29246, 0.31719]\n",
    "]\n",
    "\n",
    "\n",
    "ensemble_numbers = list(range(1, 11))\n",
    "\n",
    "# Plotting\n",
    "plt.figure(dpi=500)\n",
    "plt.figure(figsize=(8, 8)) \n",
    "\n",
    "for i, class_data in enumerate(ap50):\n",
    "    plt.plot(ensemble_numbers, class_data, marker='o', label=class_labels[i])\n",
    "\n",
    "plt.xlabel('m')\n",
    "plt.ylabel('AP@50')\n",
    "plt.legend()\n",
    "plt.grid(True)\n",
    "plt.xticks(ensemble_numbers)\n",
    "plt.ylim(0, 1)\n",
    "plt.savefig(os.path.join(directory, 'ap50.png'))\n",
    "plt.close()"
   ]
  },
  {
   "cell_type": "markdown",
   "metadata": {},
   "source": [
    "## LINE GRAPH: ensemble marco AP50-95"
   ]
  },
  {
   "cell_type": "code",
   "execution_count": 21,
   "metadata": {},
   "outputs": [
    {
     "data": {
      "text/plain": [
       "<Figure size 3200x2400 with 0 Axes>"
      ]
     },
     "metadata": {},
     "output_type": "display_data"
    }
   ],
   "source": [
    "directory = 'plots_ensemble\\line_ensemble_marco'\n",
    "if not os.path.exists(directory):\n",
    "    os.makedirs(directory)\n",
    "\n",
    "ap50_95 = [\n",
    "    [0.37803, 0.39993, 0.41041, 0.42429, 0.41917, 0.43021, 0.43159, 0.43556, 0.43276, 0.43621],\n",
    "    [0.62568, 0.61972, 0.63969, 0.6446, 0.64719, 0.64731, 0.65138, 0.64869, 0.64919, 0.64463], \n",
    "    [0.31443, 0.3405, 0.36067, 0.35771, 0.36026, 0.36314, 0.36693, 0.3648, 0.36269, 0.37036], \n",
    "    [0.54816, 0.56127, 0.57083, 0.56616, 0.57355, 0.57781, 0.57281, 0.57242, 0.57612, 0.57656], \n",
    "    [0.46865, 0.43697, 0.46434, 0.43985, 0.45447, 0.46889, 0.45759, 0.47323, 0.45896, 0.47645],\n",
    "    [0.15201, 0.15205, 0.17925, 0.18203, 0.18873, 0.18223, 0.18251, 0.18776, 0.18347, 0.18828]   \n",
    "]\n",
    "\n",
    "ensemble_numbers = list(range(1, 11))\n",
    "\n",
    "# Plotting\n",
    "plt.figure(dpi=500)\n",
    "plt.figure(figsize=(8, 8)) \n",
    "\n",
    "for i, class_data in enumerate(ap50_95):\n",
    "    plt.plot(ensemble_numbers, class_data, marker='o', label=class_labels[i])\n",
    "\n",
    "plt.xlabel('m')\n",
    "plt.ylabel('AP@50-95')\n",
    "plt.legend()\n",
    "plt.grid(True)\n",
    "plt.xticks(ensemble_numbers)\n",
    "plt.ylim(0, 1)\n",
    "plt.savefig(os.path.join(directory, 'ap50_95.png'))\n",
    "plt.close()"
   ]
  },
  {
   "cell_type": "markdown",
   "metadata": {},
   "source": [
    "## LINE GRAPH: ensemble icebear AP50-95"
   ]
  },
  {
   "cell_type": "code",
   "execution_count": 22,
   "metadata": {},
   "outputs": [
    {
     "data": {
      "text/plain": [
       "<Figure size 3200x2400 with 0 Axes>"
      ]
     },
     "metadata": {},
     "output_type": "display_data"
    }
   ],
   "source": [
    "directory = 'plots_ensemble\\line_ensemble_icebear'\n",
    "if not os.path.exists(directory):\n",
    "    os.makedirs(directory)\n",
    "\n",
    "ap50_95 = [\n",
    "    [0.16606, 0.19145, 0.21614, 0.23295, 0.23982, 0.24561, 0.23848, 0.24266, 0.25432, 0.2604],\n",
    "    [0.56287, 0.53081, 0.55072, 0.56661, 0.5624, 0.56705, 0.57147, 0.57978, 0.57168, 0.5694],\n",
    "    [0.19687, 0.2099, 0.20799, 0.21283, 0.22044, 0.21636, 0.21935, 0.22066, 0.22339, 0.22444],\n",
    "    [0.42917, 0.44799, 0.48473, 0.48182, 0.49356, 0.48897, 0.48957, 0.485, 0.4861, 0.49675],\n",
    "    [0.20469, 0.22357, 0.21693, 0.24742, 0.24993, 0.22564, 0.2219, 0.22904, 0.25025, 0.2536],\n",
    "    [0.080678, 0.11244, 0.14911, 0.12498, 0.1427, 0.14095, 0.14852, 0.14757, 0.15151, 0.16553]\n",
    "]\n",
    "\n",
    "ensemble_numbers = list(range(1, 11))\n",
    "\n",
    "# Plotting\n",
    "plt.figure(dpi=500)\n",
    "plt.figure(figsize=(8, 8)) \n",
    "\n",
    "for i, class_data in enumerate(ap50_95):\n",
    "    plt.plot(ensemble_numbers, class_data, marker='o', label=class_labels[i])\n",
    "\n",
    "plt.xlabel('m')\n",
    "plt.ylabel('AP@50-95')\n",
    "plt.legend()\n",
    "plt.grid(True)\n",
    "plt.xticks(ensemble_numbers)\n",
    "plt.ylim(0, 1)\n",
    "plt.savefig(os.path.join(directory, 'ap50_95.png'))\n",
    "plt.close()"
   ]
  },
  {
   "cell_type": "markdown",
   "metadata": {},
   "source": [
    "## LINE GRAPH: ensemble mAP50 and mAP50-95 on marco"
   ]
  },
  {
   "cell_type": "code",
   "execution_count": 23,
   "metadata": {},
   "outputs": [
    {
     "data": {
      "text/plain": [
       "<Figure size 3200x2400 with 0 Axes>"
      ]
     },
     "metadata": {},
     "output_type": "display_data"
    }
   ],
   "source": [
    "directory = 'plots_ensemble\\line_ensemble_marco'\n",
    "if not os.path.exists(directory):\n",
    "    os.makedirs(directory)\n",
    "\n",
    "mAP50 = [\n",
    "    0.5881560695350004,\n",
    "    0.5810491240762302,\n",
    "    0.6013339227616193,\n",
    "    0.5976730390733397,\n",
    "    0.604644946767772, \n",
    "    0.6118167600960082,\n",
    "    0.6086957300745839,\n",
    "    0.6122024801273492,\n",
    "    0.6084286872474781,\n",
    "    0.613490171224863\n",
    "]\n",
    "\n",
    "mAP50_95 = [\n",
    "    0.41449089642074044,\n",
    "    0.4184056209535339, \n",
    "    0.4375304800271527, \n",
    "    0.4357746687133396, \n",
    "    0.44055931145634075,\n",
    "    0.4449336908209816, \n",
    "    0.44380210196494635,\n",
    "    0.44707498183903294,\n",
    "    0.44386615864176915,\n",
    "    0.4487471580725686\n",
    "]\n",
    "\n",
    "ensemble_numbers = list(range(1, 11))\n",
    "\n",
    "# Plotting\n",
    "plt.figure(dpi=500)\n",
    "plt.figure(figsize=(8, 8)) \n",
    "plt.plot(ensemble_numbers, mAP50, marker='o', label='mAP@50')\n",
    "plt.plot(ensemble_numbers, mAP50_95, marker='o', label='mAP@50-95')\n",
    "plt.xlabel('m')\n",
    "plt.ylabel('mAP')\n",
    "plt.grid(True)\n",
    "plt.xticks(ensemble_numbers)\n",
    "plt.ylim(0, 1)\n",
    "plt.legend()\n",
    "plt.savefig(os.path.join(directory, 'map50_map50_95.png'))\n",
    "plt.close()"
   ]
  },
  {
   "cell_type": "markdown",
   "metadata": {},
   "source": [
    "## LINE GRAPH: ensemble mAP50 and mAP50-95 on icebear"
   ]
  },
  {
   "cell_type": "code",
   "execution_count": 25,
   "metadata": {},
   "outputs": [
    {
     "data": {
      "text/plain": [
       "<Figure size 3200x2400 with 0 Axes>"
      ]
     },
     "metadata": {},
     "output_type": "display_data"
    }
   ],
   "source": [
    "directory = 'plots_ensemble\\line_ensemble_icebear'\n",
    "if not os.path.exists(directory):\n",
    "    os.makedirs(directory)\n",
    "\n",
    "mAP50 = [\n",
    "    0.4004813798860482,\n",
    "    0.42195743183364015,\n",
    "    0.4362228563648598,\n",
    "    0.44463001670238533,\n",
    "    0.4567603658443213,\n",
    "    0.4491722498124144,\n",
    "    0.45046925593029136,\n",
    "    0.45420437654341206,\n",
    "    0.4631654043568287,\n",
    "    0.470086848071936\n",
    "]\n",
    "\n",
    "mAP50_95 = [\n",
    "    0.27338885341525104,\n",
    "    0.28602736318331884,\n",
    "    0.30427104374178365,\n",
    "    0.311103458578635,\n",
    "    0.3181416885633679,\n",
    "    0.3140970370144899,\n",
    "    0.3148821656780199,\n",
    "    0.3174517339685291,\n",
    "    0.32287552683437976,\n",
    "    0.32836944034023025\n",
    "]\n",
    "\n",
    "\n",
    "ensemble_numbers = list(range(1, 11))\n",
    "\n",
    "# Plotting\n",
    "plt.figure(dpi=500)\n",
    "plt.figure(figsize=(8, 8)) \n",
    "plt.plot(ensemble_numbers, mAP50, marker='o', label='mAP@50')\n",
    "plt.plot(ensemble_numbers, mAP50_95, marker='o', label='mAP@50-95')\n",
    "plt.xlabel('m')\n",
    "plt.ylabel('mAP')\n",
    "plt.grid(True)\n",
    "plt.xticks(ensemble_numbers)\n",
    "plt.ylim(0, 1)\n",
    "plt.legend()\n",
    "plt.savefig(os.path.join(directory, 'map50_map50_95.png'))\n",
    "plt.close()"
   ]
  },
  {
   "cell_type": "markdown",
   "metadata": {},
   "source": [
    "## CALIBRATION PLOT: model/ensemble error"
   ]
  },
  {
   "cell_type": "code",
   "execution_count": null,
   "metadata": {},
   "outputs": [],
   "source": [
    "directory = 'plots_uncertainty\\calibration_accuracy_conf_model_ensemble'\n",
    "if not os.path.exists(directory):\n",
    "    os.makedirs(directory)\n",
    "\n",
    "plt.figure(figsize=(10, 8))\n",
    "for i in range(1, m + 1):\n",
    "    pred, gt = load(f\"YOLOv9c_predictions_0.01\\{i}\\labels\", \"datasets\\crystals\\labels\\\\test\")\n",
    "    fuzzy(pred, 1)\n",
    "    match(pred, gt)\n",
    "\n",
    "    conf_binned = binning(pred)\n",
    "    conf_means, positives_ratios, ece = calibration(conf_binned)\n",
    "\n",
    "    plt.plot(conf_means, positives_ratios, linewidth=1, marker='o', markersize=2, label=f'Model {i}')\n",
    "    print(f\"Model {i}: \" + str(ece))\n",
    "\n",
    "\n",
    "pred, gt = load(f\"YOLOv9c_predictions_0.01\\ensemble_10\", \"datasets\\crystals\\labels\\\\test\")\n",
    "fuzzy(pred, 1)\n",
    "match(pred, gt)\n",
    "conf_binned = binning(pred)\n",
    "conf_means, positives_ratios, ece = calibration(conf_binned)\n",
    "\n",
    "# plt.figure(dpi=500)\n",
    "plt.plot(conf_means, positives_ratios, linewidth=2, marker='o', markersize=4, label=f'Ensemble', color='black')\n",
    "print(f\"Ensemble: \" + str(ece))\n",
    "plt.plot([0, 1], [0, 1], color='0.7', linestyle='--')\n",
    "plt.xlabel('Means of Binned Confidences')\n",
    "plt.ylabel('Fraction of Positives')\n",
    "plt.title(f\"m = {i}\")\n",
    "plt.grid(True)\n",
    "plt.legend(loc='best')\n",
    "plt.savefig(os.path.join(directory, f'{i}.png'))\n",
    "plt.close()"
   ]
  },
  {
   "cell_type": "markdown",
   "metadata": {},
   "source": [
    "## CALIBRATION PLOT: ensemble error"
   ]
  },
  {
   "cell_type": "code",
   "execution_count": null,
   "metadata": {},
   "outputs": [],
   "source": [
    "directory = 'plots_uncertainty\\calibration_accuracy_conf_ensemble'\n",
    "if not os.path.exists(directory):\n",
    "    os.makedirs(directory)\n",
    "\n",
    "for i in range(1, m + 1):\n",
    "    pred, gt = load(f\"YOLOv9c_predictions_0.01\\ensemble_{i}\", \"datasets\\crystals\\labels\\\\test\")\n",
    "    fuzzy(pred, 1)\n",
    "    match(pred, gt)\n",
    "\n",
    "    plt.clf()\n",
    "\n",
    "    conf_binned = binning(pred)\n",
    "    conf_means, positives_ratios, ece = calibration(conf_binned)\n",
    "\n",
    "    plt.figure(dpi=500)\n",
    "    plt.plot(conf_means, positives_ratios, linewidth=2, marker='o', markersize=5,label=f'ECE: {ece:.3f}', color='black')\n",
    "    plt.plot([0, 1], [0, 1], color='0.7', linestyle='--')\n",
    "    plt.xlabel('Means of Binned Confidences')\n",
    "    plt.ylabel('Fraction of Positives')\n",
    "    plt.title(f\"m = {i}\")\n",
    "    plt.grid(True)\n",
    "    plt.legend(loc='best')\n",
    "    plt.savefig(os.path.join(directory, f'{i}.png'))\n",
    "    plt.close()"
   ]
  },
  {
   "cell_type": "markdown",
   "metadata": {},
   "source": [
    "## SCATTER PLOT: error_conf\n",
    "Error as a function of confidence, highlighting correct classifications (green), misclassifications (red), and the number of ensemble members (m).\n",
    " \n"
   ]
  },
  {
   "cell_type": "code",
   "execution_count": null,
   "metadata": {},
   "outputs": [],
   "source": [
    "directory = 'plots_uncertainty\\scatter_error_conf'\n",
    "if not os.path.exists(directory):\n",
    "    os.makedirs(directory)\n",
    "\n",
    "for i in range(1, m + 1):\n",
    "    pred, gt = load(f\"YOLOv9c_predictions_0.01\\ensemble_{i}\", \"datasets\\crystals\\labels\\\\test\")\n",
    "    fuzzy(pred, 1)\n",
    "    match(pred, gt)\n",
    "\n",
    "    plt.clf()\n",
    "\n",
    "    data = [(subsub[9], subsub[10], subsub[11]) for sublist in pred for subsub in sublist]\n",
    "    x, y, z = zip(*data)\n",
    "    colors = ['green' if score > 0.55 else 'red' for score in z]\n",
    "    \n",
    "    coefficients = np.polyfit(x, y, 3)\n",
    "    trendline = np.poly1d(coefficients)\n",
    "\n",
    "    plt.figure(dpi=500)\n",
    "    plt.scatter(x, y, c=colors, s=5)\n",
    "    plt.plot(np.sort(x), trendline(np.sort(x)), color='black', label='Trendline')\n",
    "    plt.xlabel('Confidence')\n",
    "    plt.ylabel('Error')\n",
    "    plt.title(f\"m = {i}\")\n",
    "    plt.xlim(0, 1)\n",
    "    plt.ylim(0, 0.45)\n",
    "    plt.savefig(os.path.join(directory, f'{i}.png'))\n",
    "    plt.close()"
   ]
  },
  {
   "cell_type": "markdown",
   "metadata": {},
   "source": [
    "## SCATTER PLOT: error_iou"
   ]
  },
  {
   "cell_type": "code",
   "execution_count": null,
   "metadata": {},
   "outputs": [],
   "source": [
    "directory = 'plots_uncertainty\\scatter_error_iou'\n",
    "if not os.path.exists(directory):\n",
    "    os.makedirs(directory)\n",
    "\n",
    "for i in range(1, m + 1):\n",
    "    pred, gt = load(f\"YOLOv9c_predictions_0.01\\ensemble_{i}\", \"datasets\\crystals\\labels\\\\test\")\n",
    "    fuzzy(pred, 1)\n",
    "    match(pred, gt)\n",
    "\n",
    "    plt.clf()\n",
    "\n",
    "    data = [(subsub[11], subsub[10], len(subsub)) for sublist in pred for subsub in sublist]\n",
    "    x, y, subsub_length = zip(*data)\n",
    "    colors = ['green' if score > 0.55 else 'red' for score in x]\n",
    "\n",
    "    coefficients = np.polyfit(x, y, 3)\n",
    "    trendline = np.poly1d(coefficients)\n",
    "\n",
    "    plt.figure(dpi=500)\n",
    "    plt.scatter(x, y, c=colors, s=5)\n",
    "    plt.plot(np.sort(x), trendline(np.sort(x)), color='black', label='Trendline')\n",
    "    plt.xlabel('IoU')\n",
    "    plt.ylabel('Error')\n",
    "    plt.title(f\"m = {i}\")\n",
    "    plt.xlim(0, 1)\n",
    "    plt.ylim(0, 0.45)\n",
    "    plt.savefig(os.path.join(directory, f'{i}.png'))\n",
    "    plt.close()"
   ]
  },
  {
   "cell_type": "markdown",
   "metadata": {},
   "source": [
    "# OOD: marco vs coco"
   ]
  },
  {
   "cell_type": "code",
   "execution_count": null,
   "metadata": {},
   "outputs": [],
   "source": [
    "directory = 'plots_uncertainty\\histogram_ood_0.15_noother'\n",
    "if not os.path.exists(directory):\n",
    "    os.makedirs(directory)\n",
    "\n",
    "for i in range(1, m + 1):\n",
    "\n",
    "    pred_id, _ = load(f\"YOLOv9c_predictions_0.15\\ensemble_{i}\", None)\n",
    "    pred_ood, _ = load(f\"YOLOv9c_predictions_0.15_coco\\ensemble_{i}\", None)\n",
    "    fuzzy(pred_id, 1)\n",
    "    fuzzy(pred_ood, 1)\n",
    "\n",
    "    plt.clf()\n",
    "\n",
    "    error_id = []\n",
    "    error_ood = []\n",
    "    for id, ood in zip(pred_id, pred_ood):\n",
    "        for j in id:\n",
    "            if j[0] != 0 and j[0] != 5:\n",
    "                error_id.append(j[10])\n",
    "        for k in ood:\n",
    "            if k[0] != 0 and k[0] != 5:\n",
    "                error_ood.append(k[10]) \n",
    "\n",
    "    plt.figure(dpi=500)\n",
    "    bin_edges = np.linspace(0, 1, 51)[1:]\n",
    "    plt.hist(error_id, bins=bin_edges, density=True, alpha=0.5, label='In-Distribution', edgecolor='black', color='green')\n",
    "    plt.hist(error_ood, bins=bin_edges, density=True, alpha=0.5, label='Out-of-Distribution', edgecolor='black', color='red')\n",
    "    plt.xlabel('Error')\n",
    "    plt.ylabel('Density')\n",
    "    plt.title(f\"m = {i}\")\n",
    "    plt.xlim(0, 0.45)\n",
    "    plt.ylim(0, 20)\n",
    "    plt.legend()\n",
    "    plt.savefig(os.path.join(directory, f'{i}.png'))\n",
    "    plt.close()"
   ]
  }
 ],
 "metadata": {
  "kernelspec": {
   "display_name": ".venv",
   "language": "python",
   "name": "python3"
  },
  "language_info": {
   "codemirror_mode": {
    "name": "ipython",
    "version": 3
   },
   "file_extension": ".py",
   "mimetype": "text/x-python",
   "name": "python",
   "nbconvert_exporter": "python",
   "pygments_lexer": "ipython3",
   "version": "3.11.9"
  }
 },
 "nbformat": 4,
 "nbformat_minor": 2
}
